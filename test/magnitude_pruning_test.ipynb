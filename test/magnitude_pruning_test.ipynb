{
 "cells": [
  {
   "cell_type": "markdown",
   "metadata": {},
   "source": [
    "### Set the proper version of Tensorflow \n",
    "\n",
    "Currently working version is `2.4.1` "
   ]
  },
  {
   "cell_type": "code",
   "execution_count": null,
   "metadata": {},
   "outputs": [],
   "source": [
    "#!pip install tensorflow==2.4.1"
   ]
  },
  {
   "cell_type": "markdown",
   "metadata": {},
   "source": [
    "### If running locally\n",
    "---"
   ]
  },
  {
   "cell_type": "code",
   "execution_count": 1,
   "metadata": {},
   "outputs": [],
   "source": [
    "import sys\n",
    "sys.path.append(\"../\")"
   ]
  },
  {
   "cell_type": "markdown",
   "metadata": {},
   "source": [
    "### If running on Colab\n",
    "---"
   ]
  },
  {
   "cell_type": "code",
   "execution_count": null,
   "metadata": {},
   "outputs": [],
   "source": [
    "!git clone https://github.com/Godofnothing/TF_Pruning\n"
   ]
  },
  {
   "cell_type": "code",
   "execution_count": null,
   "metadata": {},
   "outputs": [],
   "source": [
    "%cd TF_Pruning"
   ]
  },
  {
   "cell_type": "markdown",
   "metadata": {},
   "source": [
    "### The main part\n",
    "---"
   ]
  },
  {
   "cell_type": "code",
   "execution_count": 3,
   "metadata": {},
   "outputs": [],
   "source": [
    "from tf_pruning.layers import PrunableConv1D, PrunableConv2D\n",
    "from tf_pruning.schedules import PolynomialDecay, ExponentialDecay, CosineAnnealingDecay, ConstantSparsity\n",
    "from tf_pruning.pruning_methods import L1PruningUnstructured\n",
    "from tf_pruning.callbacks import PruningCallback"
   ]
  },
  {
   "cell_type": "code",
   "execution_count": 4,
   "metadata": {},
   "outputs": [],
   "source": [
    "import matplotlib.pyplot as plt\n",
    "import seaborn as sns\n",
    "\n",
    "sns.set(font_scale=1.3)\n",
    "sns.set_style(\"darkgrid\", {\"axes.facecolor\": \".95\"})\n",
    "\n",
    "%matplotlib inline"
   ]
  },
  {
   "cell_type": "code",
   "execution_count": 5,
   "metadata": {},
   "outputs": [],
   "source": [
    "import tensorflow as tf"
   ]
  },
  {
   "cell_type": "code",
   "execution_count": 6,
   "metadata": {},
   "outputs": [],
   "source": [
    "dataset_size = 16\n",
    "seq_len = 32\n",
    "input_dim = 2\n",
    "hidden_dim = 3\n",
    "output_dim = 2\n",
    "\n",
    "x_train = tf.random.normal(shape=(dataset_size, seq_len, input_dim))\n",
    "y_train = tf.random.normal(shape=(dataset_size, seq_len, input_dim))"
   ]
  },
  {
   "cell_type": "code",
   "execution_count": 8,
   "metadata": {},
   "outputs": [],
   "source": [
    "model = L1PruningUnstructured(\n",
    "    tf.keras.Sequential([\n",
    "      tf.keras.Sequential([\n",
    "          PrunableConv1D(filters=2, kernel_size=5, prune_bias=False, padding='same'),\n",
    "          PrunableConv1D(filters=2, kernel_size=5, prune_bias=False, padding='same')\n",
    "      ]),\n",
    "      PrunableConv1D(filters=2, kernel_size=5, prune_bias=False, padding='same'),\n",
    "      PrunableConv1D(filters=2, kernel_size=5, prune_bias=False, padding='same'), \n",
    "      PrunableConv1D(filters=2, kernel_size=5, prune_bias=False, padding='same')             \n",
    "    ]),\n",
    "    pruning_schedule = CosineAnnealingDecay(init_sparsity=0.9, final_sparsity=0.3, begin_epoch=0, end_epoch=9, frequency=2)\n",
    ")"
   ]
  },
  {
   "cell_type": "code",
   "execution_count": 10,
   "metadata": {},
   "outputs": [],
   "source": [
    "dataset_size = 16\n",
    "seq_len = 32\n",
    "input_dim = 2\n",
    "hidden_dim = 3\n",
    "output_dim = 2\n",
    "\n",
    "x_train = tf.random.normal(shape=(dataset_size, seq_len, input_dim))\n",
    "y_train = tf.random.normal(shape=(dataset_size, seq_len, input_dim))"
   ]
  },
  {
   "cell_type": "code",
   "execution_count": 11,
   "metadata": {},
   "outputs": [],
   "source": [
    "model.compile(optimizer='adam', loss='mse')"
   ]
  },
  {
   "cell_type": "code",
   "execution_count": 12,
   "metadata": {},
   "outputs": [],
   "source": [
    "model.fit(x=x_train, y=y_train, batch_size=2, epochs=10, callbacks=[PruningCallback()])"
   ]
  }
 ],
 "metadata": {
  "kernelspec": {
   "display_name": "Python 3.9.6 64-bit ('base': conda)",
   "name": "python392jvsc74a57bd0c97ba66917de3b8304ab431763ba637115ffd393743cb38a2e6c2e42cca64418"
  },
  "language_info": {
   "codemirror_mode": {
    "name": "ipython",
    "version": 3
   },
   "file_extension": ".py",
   "mimetype": "text/x-python",
   "name": "python",
   "nbconvert_exporter": "python",
   "pygments_lexer": "ipython3",
   "version": "3.9.6"
  },
  "metadata": {
   "interpreter": {
    "hash": "c97ba66917de3b8304ab431763ba637115ffd393743cb38a2e6c2e42cca64418"
   }
  },
  "orig_nbformat": 2
 },
 "nbformat": 4,
 "nbformat_minor": 2
}